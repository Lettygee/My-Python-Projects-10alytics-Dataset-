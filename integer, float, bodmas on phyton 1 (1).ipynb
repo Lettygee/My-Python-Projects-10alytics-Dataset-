{
 "cells": [
  {
   "cell_type": "markdown",
   "id": "ddc9a269",
   "metadata": {},
   "source": [
    "## Integers\n",
    "int gives whole number without decimal"
   ]
  },
  {
   "cell_type": "code",
   "execution_count": 1,
   "id": "2ec0918e",
   "metadata": {},
   "outputs": [
    {
     "data": {
      "text/plain": [
       "int"
      ]
     },
     "execution_count": 1,
     "metadata": {},
     "output_type": "execute_result"
    }
   ],
   "source": [
    "type(10)"
   ]
  },
  {
   "cell_type": "code",
   "execution_count": 2,
   "id": "444dfd2a",
   "metadata": {},
   "outputs": [
    {
     "data": {
      "text/plain": [
       "int"
      ]
     },
     "execution_count": 2,
     "metadata": {},
     "output_type": "execute_result"
    }
   ],
   "source": [
    "type(-10)"
   ]
  },
  {
   "cell_type": "code",
   "execution_count": 2,
   "id": "eb8e7f2b",
   "metadata": {},
   "outputs": [
    {
     "data": {
      "text/plain": [
       "4"
      ]
     },
     "execution_count": 2,
     "metadata": {},
     "output_type": "execute_result"
    }
   ],
   "source": [
    "int(20/5)"
   ]
  },
  {
   "cell_type": "markdown",
   "id": "34676ddb",
   "metadata": {},
   "source": [
    "### Float\n",
    "1. Either positive or negative, as long as there is decimal point.. it is a float"
   ]
  },
  {
   "cell_type": "code",
   "execution_count": 3,
   "id": "b874f967",
   "metadata": {},
   "outputs": [
    {
     "data": {
      "text/plain": [
       "float"
      ]
     },
     "execution_count": 3,
     "metadata": {},
     "output_type": "execute_result"
    }
   ],
   "source": [
    "type(37.5)"
   ]
  },
  {
   "cell_type": "markdown",
   "id": "ea847a69",
   "metadata": {},
   "source": [
    "type(-37.5)"
   ]
  },
  {
   "cell_type": "markdown",
   "id": "16491736",
   "metadata": {},
   "source": [
    "### Basic Arithmetic"
   ]
  },
  {
   "cell_type": "code",
   "execution_count": 5,
   "id": "a86f498b",
   "metadata": {},
   "outputs": [
    {
     "data": {
      "text/plain": [
       "20"
      ]
     },
     "execution_count": 5,
     "metadata": {},
     "output_type": "execute_result"
    }
   ],
   "source": [
    "10 + 10"
   ]
  },
  {
   "cell_type": "code",
   "execution_count": 6,
   "id": "57fdb7c8",
   "metadata": {},
   "outputs": [
    {
     "data": {
      "text/plain": [
       "76.456"
      ]
     },
     "execution_count": 6,
     "metadata": {},
     "output_type": "execute_result"
    }
   ],
   "source": [
    "10 + 66.456"
   ]
  },
  {
   "cell_type": "code",
   "execution_count": 7,
   "id": "b99f90d7",
   "metadata": {},
   "outputs": [
    {
     "data": {
      "text/plain": [
       "400000"
      ]
     },
     "execution_count": 7,
     "metadata": {},
     "output_type": "execute_result"
    }
   ],
   "source": [
    "2000*200"
   ]
  },
  {
   "cell_type": "code",
   "execution_count": 8,
   "id": "37f30771",
   "metadata": {},
   "outputs": [
    {
     "data": {
      "text/plain": [
       "int"
      ]
     },
     "execution_count": 8,
     "metadata": {},
     "output_type": "execute_result"
    }
   ],
   "source": [
    "int"
   ]
  },
  {
   "cell_type": "code",
   "execution_count": 10,
   "id": "821ff6cb",
   "metadata": {},
   "outputs": [
    {
     "data": {
      "text/plain": [
       "2"
      ]
     },
     "execution_count": 10,
     "metadata": {},
     "output_type": "execute_result"
    }
   ],
   "source": [
    "# Floor Division ... this gives how many times the denominator goes from the numerator\n",
    "25//9"
   ]
  },
  {
   "cell_type": "code",
   "execution_count": 12,
   "id": "ed91a3f5",
   "metadata": {},
   "outputs": [
    {
     "data": {
      "text/plain": [
       "5"
      ]
     },
     "execution_count": 12,
     "metadata": {},
     "output_type": "execute_result"
    }
   ],
   "source": [
    "# Even numbers are those divisible by 2 without any remainder\n",
    "10//2"
   ]
  },
  {
   "cell_type": "code",
   "execution_count": 13,
   "id": "9cb2d1b4",
   "metadata": {},
   "outputs": [
    {
     "data": {
      "text/plain": [
       "7"
      ]
     },
     "execution_count": 13,
     "metadata": {},
     "output_type": "execute_result"
    }
   ],
   "source": [
    "# Modulo - gives the remainder\n",
    "25%9"
   ]
  },
  {
   "cell_type": "code",
   "execution_count": 14,
   "id": "b191a5b3",
   "metadata": {},
   "outputs": [],
   "source": [
    "# which means 9 can divide 25 two times without a remainder of 7"
   ]
  },
  {
   "cell_type": "code",
   "execution_count": 16,
   "id": "7ae9b10b",
   "metadata": {},
   "outputs": [
    {
     "name": "stdout",
     "output_type": "stream",
     "text": [
      "38418238\n",
      "292286\n"
     ]
    }
   ],
   "source": [
    "# phyton only recognizes the number on the last line... but print was introduced to correct that... but the print function will gives multiple lines as required\n",
    "\n",
    "print(2222456666777//57849) # Floor Division\n",
    "print(3326373363360 % 335549) # modulo (remainder)"
   ]
  },
  {
   "cell_type": "code",
   "execution_count": 17,
   "id": "cd402adb",
   "metadata": {},
   "outputs": [
    {
     "data": {
      "text/plain": [
       "4"
      ]
     },
     "execution_count": 17,
     "metadata": {},
     "output_type": "execute_result"
    }
   ],
   "source": [
    "# Raised to power\n",
    "2**2"
   ]
  },
  {
   "cell_type": "code",
   "execution_count": 18,
   "id": "361c0f73",
   "metadata": {},
   "outputs": [
    {
     "data": {
      "text/plain": [
       "236736367459211723401"
      ]
     },
     "execution_count": 18,
     "metadata": {},
     "output_type": "execute_result"
    }
   ],
   "source": [
    "109**10"
   ]
  },
  {
   "cell_type": "code",
   "execution_count": 19,
   "id": "7a191b3c",
   "metadata": {},
   "outputs": [
    {
     "data": {
      "text/plain": [
       "5.0"
      ]
     },
     "execution_count": 19,
     "metadata": {},
     "output_type": "execute_result"
    }
   ],
   "source": [
    "# Square root\n",
    "25 ** 0.5"
   ]
  },
  {
   "cell_type": "code",
   "execution_count": 20,
   "id": "0224d090",
   "metadata": {},
   "outputs": [],
   "source": [
    "# question ; why does raise to power and square root have same sign **   or is it the 0.5 that differenciaates it?"
   ]
  },
  {
   "cell_type": "code",
   "execution_count": 22,
   "id": "ebced4ae",
   "metadata": {},
   "outputs": [
    {
     "data": {
      "text/plain": [
       "-594.1666666666666"
      ]
     },
     "execution_count": 22,
     "metadata": {},
     "output_type": "execute_result"
    }
   ],
   "source": [
    "# BODMAS - Order of operation\n",
    "(100*4)-1000+35/6"
   ]
  },
  {
   "cell_type": "code",
   "execution_count": 3,
   "id": "99aa613a",
   "metadata": {},
   "outputs": [
    {
     "data": {
      "text/plain": [
       "8"
      ]
     },
     "execution_count": 3,
     "metadata": {},
     "output_type": "execute_result"
    }
   ],
   "source": [
    "# Round - rounds decimals to the neareast whole number\n",
    "round(25/3)"
   ]
  },
  {
   "cell_type": "code",
   "execution_count": 4,
   "id": "19947663",
   "metadata": {},
   "outputs": [
    {
     "data": {
      "text/plain": [
       "8.33333"
      ]
     },
     "execution_count": 4,
     "metadata": {},
     "output_type": "execute_result"
    }
   ],
   "source": [
    "round(25/3, 5)"
   ]
  },
  {
   "cell_type": "code",
   "execution_count": 5,
   "id": "c9f962cf",
   "metadata": {},
   "outputs": [
    {
     "data": {
      "text/plain": [
       "110.08824"
      ]
     },
     "execution_count": 5,
     "metadata": {},
     "output_type": "execute_result"
    }
   ],
   "source": [
    "round(3743/34, 5)"
   ]
  },
  {
   "cell_type": "code",
   "execution_count": null,
   "id": "2c966884",
   "metadata": {},
   "outputs": [],
   "source": []
  },
  {
   "cell_type": "markdown",
   "id": "96a2c6c1",
   "metadata": {},
   "source": [
    "### Variable assignment"
   ]
  },
  {
   "cell_type": "code",
   "execution_count": null,
   "id": "e5fc4c9e",
   "metadata": {},
   "outputs": [],
   "source": [
    "# variable is an empty container that accept anything"
   ]
  },
  {
   "cell_type": "code",
   "execution_count": 14,
   "id": "823addd8",
   "metadata": {},
   "outputs": [],
   "source": [
    "income=5000"
   ]
  },
  {
   "cell_type": "code",
   "execution_count": 13,
   "id": "cd330ab8",
   "metadata": {},
   "outputs": [],
   "source": [
    "income = 1000"
   ]
  },
  {
   "cell_type": "markdown",
   "id": "c61ee256",
   "metadata": {},
   "source": [
    "income"
   ]
  },
  {
   "cell_type": "code",
   "execution_count": null,
   "id": "f1b16903",
   "metadata": {},
   "outputs": [],
   "source": [
    "income = 5000 means i am assigning the value of 5000 to the word 5000... whereever u type income 5000 comes out"
   ]
  },
  {
   "cell_type": "code",
   "execution_count": 16,
   "id": "71e5623a",
   "metadata": {},
   "outputs": [],
   "source": [
    "income=5000"
   ]
  },
  {
   "cell_type": "code",
   "execution_count": 17,
   "id": "d960e69e",
   "metadata": {},
   "outputs": [
    {
     "data": {
      "text/plain": [
       "5000"
      ]
     },
     "execution_count": 17,
     "metadata": {},
     "output_type": "execute_result"
    }
   ],
   "source": [
    "income"
   ]
  },
  {
   "cell_type": "code",
   "execution_count": 18,
   "id": "ed44b50e",
   "metadata": {},
   "outputs": [
    {
     "data": {
      "text/plain": [
       "27"
      ]
     },
     "execution_count": 18,
     "metadata": {},
     "output_type": "execute_result"
    }
   ],
   "source": [
    "yob=1995\n",
    "age=2022-yob   (this is hard coded)\n",
    "age"
   ]
  },
  {
   "cell_type": "code",
   "execution_count": null,
   "id": "fe230bbe",
   "metadata": {},
   "outputs": [],
   "source": []
  },
  {
   "cell_type": "code",
   "execution_count": null,
   "id": "35a12a57",
   "metadata": {},
   "outputs": [],
   "source": [
    "# in reaL LIFE those web data asking ur biodata e.g age, name etc can be hard coded from this example below"
   ]
  },
  {
   "cell_type": "code",
   "execution_count": null,
   "id": "d84c6572",
   "metadata": {},
   "outputs": [],
   "source": [
    "yob=input(\"what is your year of birth:\")\n",
    "age=2022-yob\n",
    "age"
   ]
  },
  {
   "cell_type": "code",
   "execution_count": null,
   "id": "e98fe3a0",
   "metadata": {},
   "outputs": [],
   "source": [
    "# THE input function allow you interact with the function.... also quotation marks are used for strings"
   ]
  },
  {
   "cell_type": "code",
   "execution_count": null,
   "id": "cabfbb35",
   "metadata": {},
   "outputs": [],
   "source": [
    "# QUESTION... kindly shed more light on concatenate that is float to str and to int. "
   ]
  },
  {
   "cell_type": "markdown",
   "id": "36e1a3db",
   "metadata": {},
   "source": [
    "# indexing\n",
    "\n",
    "Positive indexing starts from 0 while Reverse (negative) starts from -1 . Anything indexing and slicing starts with square bracket"
   ]
  },
  {
   "cell_type": "markdown",
   "id": "b05b50ef",
   "metadata": {},
   "source": [
    "### indexing"
   ]
  },
  {
   "cell_type": "code",
   "execution_count": 1,
   "id": "cbaa03fa",
   "metadata": {},
   "outputs": [
    {
     "name": "stdout",
     "output_type": "stream",
     "text": [
      "wizkid\n"
     ]
    }
   ],
   "source": [
    "name='wizkid'\n",
    "\n",
    "print(name)\n"
   ]
  },
  {
   "cell_type": "code",
   "execution_count": null,
   "id": "74c5ad5e",
   "metadata": {},
   "outputs": [],
   "source": []
  },
  {
   "cell_type": "code",
   "execution_count": 2,
   "id": "d535d652",
   "metadata": {},
   "outputs": [
    {
     "name": "stdout",
     "output_type": "stream",
     "text": [
      "violet\n"
     ]
    }
   ],
   "source": [
    "name=\"violet\"\n",
    "print(name)"
   ]
  },
  {
   "cell_type": "code",
   "execution_count": null,
   "id": "e3503e0d",
   "metadata": {},
   "outputs": [],
   "source": []
  },
  {
   "cell_type": "code",
   "execution_count": null,
   "id": "2d84a71f",
   "metadata": {},
   "outputs": [],
   "source": []
  },
  {
   "cell_type": "code",
   "execution_count": null,
   "id": "cda1e67d",
   "metadata": {},
   "outputs": [],
   "source": []
  },
  {
   "cell_type": "code",
   "execution_count": null,
   "id": "b7d0618d",
   "metadata": {},
   "outputs": [],
   "source": []
  }
 ],
 "metadata": {
  "kernelspec": {
   "display_name": "Python 3 (ipykernel)",
   "language": "python",
   "name": "python3"
  },
  "language_info": {
   "codemirror_mode": {
    "name": "ipython",
    "version": 3
   },
   "file_extension": ".py",
   "mimetype": "text/x-python",
   "name": "python",
   "nbconvert_exporter": "python",
   "pygments_lexer": "ipython3",
   "version": "3.9.13"
  }
 },
 "nbformat": 4,
 "nbformat_minor": 5
}
