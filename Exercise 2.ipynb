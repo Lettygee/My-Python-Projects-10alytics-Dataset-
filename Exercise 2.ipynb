{
 "cells": [
  {
   "cell_type": "markdown",
   "id": "8d3e2ed7",
   "metadata": {},
   "source": [
    "## Number -  Integer and Float"
   ]
  },
  {
   "cell_type": "code",
   "execution_count": 1,
   "id": "bdc73b52",
   "metadata": {},
   "outputs": [
    {
     "name": "stdout",
     "output_type": "stream",
     "text": [
      "<class 'int'>\n",
      "<class 'float'>\n"
     ]
    }
   ],
   "source": [
    "# What is the data type for 100\n",
    "# What is the data type for 100.05\n",
    "# Use print\n",
    "\n",
    "#--------------- Write your code below----------------------------#\n",
    "print(type(100))\n",
    "print(type(100.05))"
   ]
  },
  {
   "cell_type": "code",
   "execution_count": 2,
   "id": "c7bd6085",
   "metadata": {},
   "outputs": [
    {
     "data": {
      "text/plain": [
       "30.0"
      ]
     },
     "execution_count": 2,
     "metadata": {},
     "output_type": "execute_result"
    }
   ],
   "source": [
    "# Basic Arithmetic\n",
    "# what is 15% of 200\n",
    "\n",
    "#--------------- Write your code below----------------------------#\n",
    "200 * 0.15"
   ]
  },
  {
   "cell_type": "code",
   "execution_count": 3,
   "id": "222d8e8c",
   "metadata": {},
   "outputs": [
    {
     "name": "stdout",
     "output_type": "stream",
     "text": [
      "2782.5\n"
     ]
    }
   ],
   "source": [
    "# Juanita’s salary is $2,650.00 per month. If she receives a salary increase of 5%, what is her new monthly salary?\n",
    "\n",
    "#--------------- Write your code below----------------------------#\n",
    "sal = 2650\n",
    "inc = 0.05\n",
    "\n",
    "sal_inc = (1 + inc)*sal\n",
    "print(sal_inc)"
   ]
  },
  {
   "cell_type": "code",
   "execution_count": 4,
   "id": "65cd4f34",
   "metadata": {},
   "outputs": [
    {
     "name": "stdout",
     "output_type": "stream",
     "text": [
      "480\n"
     ]
    }
   ],
   "source": [
    "# Jasper collects 1,082 cans of food. He gives a certain number of cans to the first local charity he finds. \n",
    "# He now has 602 cans of food. How many cans of food did he give to the first local charity?\n",
    "\n",
    "#--------------- Write your code below----------------------------#\n",
    "can = 1082\n",
    "lefover_can = 602\n",
    "\n",
    "charity_can = 1082 - 602\n",
    "print(charity_can)"
   ]
  },
  {
   "cell_type": "code",
   "execution_count": 5,
   "id": "4420db6c",
   "metadata": {},
   "outputs": [
    {
     "name": "stdout",
     "output_type": "stream",
     "text": [
      "10.0\n"
     ]
    }
   ],
   "source": [
    "# what is the square root of 100\n",
    "\n",
    "#--------------- Write your code below----------------------------#\n",
    "num = 100\n",
    "sqrt = num ** 0.5\n",
    "print(sqrt)"
   ]
  },
  {
   "cell_type": "markdown",
   "id": "1c0305c9",
   "metadata": {},
   "source": [
    "## Variable Assignment - Integers and Floats"
   ]
  },
  {
   "cell_type": "code",
   "execution_count": 6,
   "id": "4bf8d76b",
   "metadata": {},
   "outputs": [
    {
     "name": "stdout",
     "output_type": "stream",
     "text": [
      "What is your current income? 10000\n",
      "What is your current tax bracket? 2342\n",
      "7658.0\n"
     ]
    }
   ],
   "source": [
    "# what is the difference between income and tax i.e. income - tax and assign it to disposbale income\n",
    "# disposable_income = income - tax\n",
    "# Use input\n",
    "#--------------- Write your code below----------------------------#\n",
    "income = float(input('What is your current income? '))\n",
    "tax =  float(input('What is your current tax bracket? '))\n",
    "d_income = income - tax\n",
    "print (d_income)"
   ]
  },
  {
   "cell_type": "code",
   "execution_count": 7,
   "id": "0fe6a52d",
   "metadata": {},
   "outputs": [
    {
     "name": "stdout",
     "output_type": "stream",
     "text": [
      "Input your salary here: 3125\n",
      "Input your salary increase in %: 0.05\n",
      "3281\n"
     ]
    }
   ],
   "source": [
    "# Pamela’s salary is $3125.00 per month. If she receives a salary increase of 5%, her new monthly salary is:\n",
    "# pam_sal = \n",
    "# sal_increase = \n",
    "# new_salary = \n",
    "# Use input\n",
    "#--------------- Write your code below----------------------------#\n",
    "pam_sal = float(input(\"Input your salary here: \"))\n",
    "sal_increase = float(input(\"Input your salary increase in %: \"))\n",
    "new_salary = (1 + sal_increase) * pam_sal\n",
    "print(int(new_salary))"
   ]
  },
  {
   "cell_type": "code",
   "execution_count": 8,
   "id": "dbaa75be",
   "metadata": {},
   "outputs": [
    {
     "name": "stdout",
     "output_type": "stream",
     "text": [
      "2600.0\n"
     ]
    }
   ],
   "source": [
    "# You plan to forecast using the Simple Liner Forecast (Y = a + bx). What is Y? when a=1200, b=0.56 and x = 2500\n",
    "# a = \n",
    "# b = \n",
    "# x = \n",
    "# y = a + bx\n",
    "# Use input\n",
    "#--------------- Write your code below----------------------------#\n",
    "a = 1200\n",
    "b = 0.56\n",
    "x = 2500\n",
    "y = a + (b * x)\n",
    "print(y)"
   ]
  },
  {
   "cell_type": "code",
   "execution_count": 9,
   "id": "b44d5cd9",
   "metadata": {},
   "outputs": [
    {
     "name": "stdout",
     "output_type": "stream",
     "text": [
      "What is your score for first test: 10\n",
      "What is your score for second test: 10\n",
      "What is your score for attendance: 10\n",
      "What is your score for exam: 10\n",
      "40\n"
     ]
    }
   ],
   "source": [
    "# Student Calculator\n",
    "# Get user input to calculate total score\n",
    "\n",
    "# first_test = input(What is your score for first test: )\n",
    "# second_test == input(\"What is your score for second test: )\n",
    "# attendance = input(What is your score for attendance: )\n",
    "# exam = input(What is your score for exam: )\n",
    "# total_score = f_test + s_test + attend + examination\n",
    "# total_score\n",
    "\n",
    "#--------------- Write your code below----------------------------#\n",
    "first_test = int(input('What is your score for first test: '))\n",
    "second_test = int(input('What is your score for second test: '))\n",
    "attendance = int(input('What is your score for attendance: '))\n",
    "exam = int(input('What is your score for exam: '))\n",
    "total_score = first_test + second_test + attendance + exam\n",
    "print(total_score)"
   ]
  },
  {
   "cell_type": "markdown",
   "id": "18606e2e",
   "metadata": {},
   "source": [
    "## Strings"
   ]
  },
  {
   "cell_type": "code",
   "execution_count": 10,
   "id": "371a6c88",
   "metadata": {},
   "outputs": [
    {
     "name": "stdout",
     "output_type": "stream",
     "text": [
      "quick brown fox\n",
      "the lazy dog\n",
      "lazy dog\n"
     ]
    },
    {
     "data": {
      "text/plain": [
       "43"
      ]
     },
     "execution_count": 10,
     "metadata": {},
     "output_type": "execute_result"
    }
   ],
   "source": [
    "# Assign The quick brown fox jumps over the lazy dog to a Variable(text)\n",
    "\n",
    "# text = The quick brown fox jumps over the lazy dog\n",
    "\n",
    "# Slice the string to obtain quick brown fox\n",
    "# Slice the string to obtain the lazy dog\n",
    "# Use negative Indexing to obtain lazy dog\n",
    "# Obtain the Length of the string\n",
    "\n",
    "#--------------- Write your code below----------------------------#\n",
    "text = 'The quick brown fox jumps over the lazy dog'\n",
    "\n",
    "print(text[4:19])\n",
    "print(text[31:])\n",
    "print(text[-8:])\n",
    "len(text)"
   ]
  },
  {
   "cell_type": "code",
   "execution_count": 21,
   "id": "fba07b20",
   "metadata": {},
   "outputs": [
    {
     "name": "stdout",
     "output_type": "stream",
     "text": [
      "What is your name? Stunna\n",
      "How old are you? 90\n",
      "What is your state of origin? Kowonleru\n",
      "What is your profession? Data Scientist\n",
      "My name is Stunna and i'm 90 years old. I am from Kowonleru state and i am Data Scientist by profession\n"
     ]
    }
   ],
   "source": [
    "# Get input from user and Concatenate the code below\n",
    "\n",
    "# Name = What is your name?\n",
    "# Age = How old are you?\n",
    "# State = What is your state of origin?\n",
    "# Profession = What is your profession?\n",
    "# Bio = print(My name is _ and i'm _ years old. I am from _ state and i am _ by profession)\n",
    "\n",
    "#--------------- Write your code below----------------------------#\n",
    "name = input('What is your name? ')\n",
    "age = int(input('How old are you? '))\n",
    "state = input('What is your state of origin? ')\n",
    "profession = input('What is your profession? ')\n",
    "bio = print(f\"My name is {name} and i'm {age} years old. I am from {state} state and i am {profession} by profession\")"
   ]
  },
  {
   "cell_type": "markdown",
   "id": "03d6cc88",
   "metadata": {},
   "source": [
    "## List"
   ]
  },
  {
   "cell_type": "code",
   "execution_count": 12,
   "id": "bfcbde94",
   "metadata": {},
   "outputs": [
    {
     "data": {
      "text/plain": [
       "['Abia',\n",
       " 'Adamawa',\n",
       " 'Akwa ibom',\n",
       " 'Anambra',\n",
       " 'Bayelsa',\n",
       " 'Benue',\n",
       " 'Borno',\n",
       " 'Cross River',\n",
       " 'Nasarawa',\n",
       " 'Niger',\n",
       " 'Ogun',\n",
       " 'Ondo',\n",
       " 'Osun',\n",
       " 'Oyo',\n",
       " 'Plateau',\n",
       " 'Rivers',\n",
       " 'Sokoto',\n",
       " 'Taraba',\n",
       " 'Yobe',\n",
       " 'Zamfara']"
      ]
     },
     "execution_count": 12,
     "metadata": {},
     "output_type": "execute_result"
    }
   ],
   "source": [
    "# Create a list of states in Nigeria\n",
    "\n",
    "# Abia\n",
    "# Adamawa\n",
    "# Akwa Ibom\n",
    "# Anambra\n",
    "# Bayelsa\n",
    "# Benue\n",
    "# Borno\n",
    "# Cross River\n",
    "# Nasarawa\n",
    "# Niger\n",
    "# Ogun\n",
    "# Ondo\n",
    "# Osun\n",
    "# Oyo\n",
    "# Plateau\n",
    "# Rivers\n",
    "# Sokoto\n",
    "# Taraba\n",
    "# Yobe\n",
    "# Zamfara\n",
    "\n",
    "# state = []\n",
    "\n",
    "#--------------- Write your code below----------------------------#\n",
    "nig_states = ['Abia', 'Adamawa', 'Akwa ibom', 'Anambra', 'Bayelsa', 'Benue', 'Borno', 'Cross River', 'Nasarawa', 'Niger', 'Ogun', 'Ondo', 'Osun', 'Oyo', 'Plateau', 'Rivers', 'Sokoto', 'Taraba', 'Yobe', 'Zamfara']\n",
    "nig_states"
   ]
  },
  {
   "cell_type": "code",
   "execution_count": 13,
   "id": "7d070932",
   "metadata": {},
   "outputs": [
    {
     "data": {
      "text/plain": [
       "20"
      ]
     },
     "execution_count": 13,
     "metadata": {},
     "output_type": "execute_result"
    }
   ],
   "source": [
    "# Q1: What is the total length of your list\n",
    "\n",
    "#--------------- Write your code below----------------------------#\n",
    "len(nig_states)"
   ]
  },
  {
   "cell_type": "code",
   "execution_count": 14,
   "id": "4cd12f1b",
   "metadata": {},
   "outputs": [
    {
     "data": {
      "text/plain": [
       "['Abia',\n",
       " 'Adamawa',\n",
       " 'Akwa ibom',\n",
       " 'Anambra',\n",
       " 'Bayelsa',\n",
       " 'Benue',\n",
       " 'Borno',\n",
       " 'Cross River',\n",
       " 'Nasarawa']"
      ]
     },
     "execution_count": 14,
     "metadata": {},
     "output_type": "execute_result"
    }
   ],
   "source": [
    "# Q2: Index and retrieve the first 10\n",
    "\n",
    "#--------------- Write your code below----------------------------#\n",
    "nig_states[0:9]"
   ]
  },
  {
   "cell_type": "code",
   "execution_count": 15,
   "id": "c22d48d8",
   "metadata": {},
   "outputs": [
    {
     "data": {
      "text/plain": [
       "['Cross River', 'Nasarawa', 'Niger', 'Ogun', 'Ondo', 'Osun', 'Oyo', 'Plateau']"
      ]
     },
     "execution_count": 15,
     "metadata": {},
     "output_type": "execute_result"
    }
   ],
   "source": [
    "# Q3: Index and retrieve Cross River, Nasarawa, Niger, Ogun, Ondo, Osun, Oyo, Plateau\n",
    "\n",
    "#--------------- Write your code below----------------------------#\n",
    "nig_states[7:15]"
   ]
  },
  {
   "cell_type": "code",
   "execution_count": 16,
   "id": "6e2748e1",
   "metadata": {},
   "outputs": [
    {
     "data": {
      "text/plain": [
       "['Rivers', 'Sokoto', 'Taraba', 'Yobe', 'Zamfara']"
      ]
     },
     "execution_count": 16,
     "metadata": {},
     "output_type": "execute_result"
    }
   ],
   "source": [
    "# Q4: Use Negative indexing to retrieve the last 5 states\n",
    "\n",
    "#--------------- Write your code below----------------------------#\n",
    "nig_states[-5:]"
   ]
  },
  {
   "cell_type": "markdown",
   "id": "38e23dbd",
   "metadata": {},
   "source": [
    "## Dictionary"
   ]
  },
  {
   "cell_type": "code",
   "execution_count": 17,
   "id": "8ee3dee6",
   "metadata": {},
   "outputs": [
    {
     "data": {
      "text/plain": [
       "{'Abia': '',\n",
       " 'Anambra State': 'WIllie Obiano',\n",
       " 'Benue State': 'Samuel Ortom',\n",
       " 'Delta State': 'Ifeanyi Okowa',\n",
       " 'Ekiti State': '',\n",
       " 'Lagos State': 'Babajide Sanwoolu',\n",
       " 'Plateau State': 'Simon Lalong',\n",
       " 'Taraba State': 'Arch. Darius Ishaku',\n",
       " 'Kogi State': 'Yahaya Bello'}"
      ]
     },
     "execution_count": 17,
     "metadata": {},
     "output_type": "execute_result"
    }
   ],
   "source": [
    "# Q1: Create a dictionary of states and governor in Nigeria\n",
    "\n",
    "# Abia State: nil\n",
    "# Anambra State: Willie Obiano\n",
    "# Benue State: Samuel Ortom\n",
    "# Delta State: Ifeanyi Okowa\n",
    "# Ekiti State: nil\n",
    "# Lagos State: Babajide Sanwo-Olu\n",
    "# Plateau State: Simon Lalong\n",
    "# Taraba State: Arch. Darius Ishaku\n",
    "# Kogi State: Yahaya Bello\n",
    "# Anambra State: Willie Obiano\n",
    "\n",
    "#--------------- Write your code below----------------------------#\n",
    "state_gov = {'Abia': '', 'Anambra State': 'Willie Obiano', 'Benue State': 'Samuel Ortom', 'Delta State': 'Ifeanyi Okowa', 'Ekiti State':'', 'Lagos State': 'Babajide Sanwoolu', 'Plateau State': 'Simon Lalong', 'Taraba State': 'Arch. Darius Ishaku', 'Kogi State': 'Yahaya Bello', 'Anambra State': 'WIllie Obiano'}\n",
    "state_gov\n"
   ]
  },
  {
   "cell_type": "code",
   "execution_count": 18,
   "id": "3f6b48a3",
   "metadata": {},
   "outputs": [
    {
     "data": {
      "text/plain": [
       "{'Abia': 'Okezie Ikpeazu',\n",
       " 'Anambra State': 'WIllie Obiano',\n",
       " 'Benue State': 'Samuel Ortom',\n",
       " 'Delta State': 'Ifeanyi Okowa',\n",
       " 'Ekiti State': 'Kayode Fayemi',\n",
       " 'Lagos State': 'Babajide Sanwoolu',\n",
       " 'Plateau State': 'Simon Lalong',\n",
       " 'Taraba State': 'Arch. Darius Ishaku',\n",
       " 'Kogi State': 'Yahaya Bello'}"
      ]
     },
     "execution_count": 18,
     "metadata": {},
     "output_type": "execute_result"
    }
   ],
   "source": [
    "# Q2: update Abia and Ekiti (Okezie Ikpeazu, Kayode Fayemi)\n",
    "\n",
    "#--------------- Write your code below----------------------------#\n",
    "state_gov['Abia']= 'Okezie Ikpeazu'\n",
    "state_gov['Ekiti State']= 'Kayode Fayemi'\n",
    "\n",
    "state_gov"
   ]
  },
  {
   "cell_type": "code",
   "execution_count": 19,
   "id": "f776cc89",
   "metadata": {},
   "outputs": [
    {
     "data": {
      "text/plain": [
       "{'Abia': 'Okezie Ikpeazu',\n",
       " 'Anambra State': 'WIllie Obiano',\n",
       " 'Benue State': 'Samuel Ortom',\n",
       " 'Delta State': 'Ifeanyi Okowa',\n",
       " 'Ekiti State': 'Kayode Fayemi',\n",
       " 'Lagos State': 'Babajide Sanwoolu',\n",
       " 'Plateau State': 'Simon Lalong',\n",
       " 'Taraba State': 'Arch. Darius Ishaku',\n",
       " 'Kogi State': 'Yahaya Bello',\n",
       " 'Cross River State': 'Benedict Ayade',\n",
       " 'Ebonyi State': 'Dave Umahi',\n",
       " 'Sokoto State': 'Aminu Waziri Tambuwal'}"
      ]
     },
     "execution_count": 19,
     "metadata": {},
     "output_type": "execute_result"
    }
   ],
   "source": [
    "# Q3: Add\n",
    "# Cross River State: Benedict Ayade\n",
    "# Ebonyi State: Dave Umahi\n",
    "# Sokoto State: Aminu Waziri Tambuwal\n",
    "\n",
    "#--------------- Write your code below----------------------------#\n",
    "state_gov['Cross River State']= 'Benedict Ayade'\n",
    "state_gov['Ebonyi State']= 'Dave Umahi'\n",
    "state_gov['Sokoto State']= 'Aminu Waziri Tambuwal'\n",
    "state_gov"
   ]
  },
  {
   "cell_type": "code",
   "execution_count": 20,
   "id": "6c30c6f5",
   "metadata": {},
   "outputs": [
    {
     "data": {
      "text/plain": [
       "{'Abia': 'Okezie Ikpeazu',\n",
       " 'Anambra State': 'WIllie Obiano',\n",
       " 'Benue State': 'Samuel Ortom',\n",
       " 'Delta State': 'Ifeanyi Okowa',\n",
       " 'Ekiti State': 'Kayode Fayemi',\n",
       " 'Lagos State': 'Babajide Sanwoolu',\n",
       " 'Plateau State': 'Simon Lalong',\n",
       " 'Cross River State': 'Benedict Ayade',\n",
       " 'Ebonyi State': 'Dave Umahi'}"
      ]
     },
     "execution_count": 20,
     "metadata": {},
     "output_type": "execute_result"
    }
   ],
   "source": [
    "# Q4: Remove Ondo, Sokoto, taraba and Kogi from the dictionary\n",
    "\n",
    "#--------------- Write your code below----------------------------#\n",
    "# NO Ondo State\n",
    "state_r = ['Sokoto State', 'Taraba State', 'Kogi State']\n",
    "list(map(state_gov.pop, state_r))\n",
    "\n",
    "state_gov"
   ]
  }
 ],
 "metadata": {
  "kernelspec": {
   "display_name": "Python 3 (ipykernel)",
   "language": "python",
   "name": "python3"
  },
  "language_info": {
   "codemirror_mode": {
    "name": "ipython",
    "version": 3
   },
   "file_extension": ".py",
   "mimetype": "text/x-python",
   "name": "python",
   "nbconvert_exporter": "python",
   "pygments_lexer": "ipython3",
   "version": "3.9.13"
  }
 },
 "nbformat": 4,
 "nbformat_minor": 5
}
