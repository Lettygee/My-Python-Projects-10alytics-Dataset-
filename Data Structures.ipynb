{
 "cells": [
  {
   "cell_type": "markdown",
   "id": "61c9c7ca",
   "metadata": {},
   "source": [
    "# Integers\n",
    "\n",
    "##### int gives whole number without decimal"
   ]
  },
  {
   "cell_type": "code",
   "execution_count": 3,
   "id": "f10b45e6",
   "metadata": {},
   "outputs": [
    {
     "data": {
      "text/plain": [
       "100"
      ]
     },
     "execution_count": 3,
     "metadata": {},
     "output_type": "execute_result"
    }
   ],
   "source": [
    "# Positive Value\n",
    "100"
   ]
  },
  {
   "cell_type": "code",
   "execution_count": 4,
   "id": "d5e55e0f",
   "metadata": {},
   "outputs": [
    {
     "data": {
      "text/plain": [
       "int"
      ]
     },
     "execution_count": 4,
     "metadata": {},
     "output_type": "execute_result"
    }
   ],
   "source": [
    "type(100)"
   ]
  },
  {
   "cell_type": "code",
   "execution_count": 5,
   "id": "3edff1d8",
   "metadata": {},
   "outputs": [
    {
     "data": {
      "text/plain": [
       "-100"
      ]
     },
     "execution_count": 5,
     "metadata": {},
     "output_type": "execute_result"
    }
   ],
   "source": [
    "# Negative value\n",
    "-100"
   ]
  },
  {
   "cell_type": "markdown",
   "id": "ef3a6b8d",
   "metadata": {},
   "source": [
    "# Float\n"
   ]
  },
  {
   "cell_type": "code",
   "execution_count": 6,
   "id": "dec4327b",
   "metadata": {},
   "outputs": [
    {
     "data": {
      "text/plain": [
       "47.5"
      ]
     },
     "execution_count": 6,
     "metadata": {},
     "output_type": "execute_result"
    }
   ],
   "source": [
    "# positive value\n",
    "47.5"
   ]
  },
  {
   "cell_type": "code",
   "execution_count": 7,
   "id": "21914d51",
   "metadata": {},
   "outputs": [
    {
     "data": {
      "text/plain": [
       "float"
      ]
     },
     "execution_count": 7,
     "metadata": {},
     "output_type": "execute_result"
    }
   ],
   "source": [
    "type(37.5)"
   ]
  },
  {
   "cell_type": "code",
   "execution_count": 8,
   "id": "45fe2ac6",
   "metadata": {},
   "outputs": [
    {
     "data": {
      "text/plain": [
       "-47.5"
      ]
     },
     "execution_count": 8,
     "metadata": {},
     "output_type": "execute_result"
    }
   ],
   "source": [
    "# Negative Value\n",
    "-47.5"
   ]
  },
  {
   "cell_type": "code",
   "execution_count": 9,
   "id": "df3e775a",
   "metadata": {},
   "outputs": [
    {
     "data": {
      "text/plain": [
       "float"
      ]
     },
     "execution_count": 9,
     "metadata": {},
     "output_type": "execute_result"
    }
   ],
   "source": [
    "type(-47.5)"
   ]
  },
  {
   "cell_type": "markdown",
   "id": "9b52c4bc",
   "metadata": {},
   "source": [
    "# Basic Arithmetic"
   ]
  },
  {
   "cell_type": "code",
   "execution_count": 11,
   "id": "dcb542cf",
   "metadata": {},
   "outputs": [
    {
     "data": {
      "text/plain": [
       "70"
      ]
     },
     "execution_count": 11,
     "metadata": {},
     "output_type": "execute_result"
    }
   ],
   "source": [
    "# Addition\n",
    "50+20"
   ]
  },
  {
   "cell_type": "code",
   "execution_count": 12,
   "id": "d2077ed1",
   "metadata": {},
   "outputs": [
    {
     "data": {
      "text/plain": [
       "98.329"
      ]
     },
     "execution_count": 12,
     "metadata": {},
     "output_type": "execute_result"
    }
   ],
   "source": [
    "10+88.329"
   ]
  },
  {
   "cell_type": "code",
   "execution_count": 13,
   "id": "f820f3be",
   "metadata": {},
   "outputs": [
    {
     "data": {
      "text/plain": [
       "-549"
      ]
     },
     "execution_count": 13,
     "metadata": {},
     "output_type": "execute_result"
    }
   ],
   "source": [
    "39-588"
   ]
  },
  {
   "cell_type": "code",
   "execution_count": 14,
   "id": "013e79fb",
   "metadata": {},
   "outputs": [
    {
     "data": {
      "text/plain": [
       "16"
      ]
     },
     "execution_count": 14,
     "metadata": {},
     "output_type": "execute_result"
    }
   ],
   "source": [
    "# Multiplication\n",
    "4*4"
   ]
  },
  {
   "cell_type": "code",
   "execution_count": 15,
   "id": "d93d5e05",
   "metadata": {},
   "outputs": [
    {
     "data": {
      "text/plain": [
       "1600000"
      ]
     },
     "execution_count": 15,
     "metadata": {},
     "output_type": "execute_result"
    }
   ],
   "source": [
    "4000*400"
   ]
  },
  {
   "cell_type": "code",
   "execution_count": 16,
   "id": "8771b400",
   "metadata": {},
   "outputs": [
    {
     "data": {
      "text/plain": [
       "20.0"
      ]
     },
     "execution_count": 16,
     "metadata": {},
     "output_type": "execute_result"
    }
   ],
   "source": [
    "# Division\n",
    "400/20"
   ]
  },
  {
   "cell_type": "code",
   "execution_count": 17,
   "id": "004b42e5",
   "metadata": {},
   "outputs": [
    {
     "data": {
      "text/plain": [
       "9"
      ]
     },
     "execution_count": 17,
     "metadata": {},
     "output_type": "execute_result"
    }
   ],
   "source": [
    "# Floor Division\n",
    "39//4"
   ]
  },
  {
   "cell_type": "code",
   "execution_count": 18,
   "id": "016e1bf8",
   "metadata": {},
   "outputs": [
    {
     "data": {
      "text/plain": [
       "7"
      ]
     },
     "execution_count": 18,
     "metadata": {},
     "output_type": "execute_result"
    }
   ],
   "source": [
    "# Modulo - to get the remainder\n",
    "25%9"
   ]
  },
  {
   "cell_type": "code",
   "execution_count": 19,
   "id": "c7892ffd",
   "metadata": {},
   "outputs": [
    {
     "name": "stdout",
     "output_type": "stream",
     "text": [
      "343758\n",
      "49963\n"
     ]
    }
   ],
   "source": [
    "print(2333777665//6789)# Floor Division\n",
    "print(2222566787%53372)# modulo "
   ]
  },
  {
   "cell_type": "code",
   "execution_count": null,
   "id": "f1e97c90",
   "metadata": {},
   "outputs": [],
   "source": [
    "# Raised to power"
   ]
  },
  {
   "cell_type": "code",
   "execution_count": 20,
   "id": "39f789cd",
   "metadata": {},
   "outputs": [
    {
     "data": {
      "text/plain": [
       "64"
      ]
     },
     "execution_count": 20,
     "metadata": {},
     "output_type": "execute_result"
    }
   ],
   "source": [
    "4**3"
   ]
  },
  {
   "cell_type": "code",
   "execution_count": 21,
   "id": "036455e7",
   "metadata": {},
   "outputs": [
    {
     "data": {
      "text/plain": [
       "4984209207"
      ]
     },
     "execution_count": 21,
     "metadata": {},
     "output_type": "execute_result"
    }
   ],
   "source": [
    "87**5"
   ]
  },
  {
   "cell_type": "code",
   "execution_count": 22,
   "id": "5d2cbb0e",
   "metadata": {},
   "outputs": [
    {
     "data": {
      "text/plain": [
       "5.0"
      ]
     },
     "execution_count": 22,
     "metadata": {},
     "output_type": "execute_result"
    }
   ],
   "source": [
    "# Square root\n",
    "25**0.5"
   ]
  },
  {
   "cell_type": "code",
   "execution_count": 23,
   "id": "5aa032b9",
   "metadata": {},
   "outputs": [
    {
     "data": {
      "text/plain": [
       "11.0"
      ]
     },
     "execution_count": 23,
     "metadata": {},
     "output_type": "execute_result"
    }
   ],
   "source": [
    "121**(1/2)"
   ]
  },
  {
   "cell_type": "code",
   "execution_count": 24,
   "id": "b5a356d6",
   "metadata": {},
   "outputs": [
    {
     "data": {
      "text/plain": [
       "505.0"
      ]
     },
     "execution_count": 24,
     "metadata": {},
     "output_type": "execute_result"
    }
   ],
   "source": [
    "# Order of Operation - BODMAS\n",
    "(100*6)-100+20/4"
   ]
  },
  {
   "cell_type": "code",
   "execution_count": 27,
   "id": "9cd9a77a",
   "metadata": {},
   "outputs": [
    {
     "data": {
      "text/plain": [
       "24.33333"
      ]
     },
     "execution_count": 27,
     "metadata": {},
     "output_type": "execute_result"
    }
   ],
   "source": [
    "# Round - Rounds decimals to the nearest whole number\n",
    "round(73/3,5)"
   ]
  },
  {
   "cell_type": "code",
   "execution_count": 28,
   "id": "de5fe586",
   "metadata": {},
   "outputs": [
    {
     "data": {
      "text/plain": [
       "930.1311475409836"
      ]
     },
     "execution_count": 28,
     "metadata": {},
     "output_type": "execute_result"
    }
   ],
   "source": [
    "56738/61"
   ]
  },
  {
   "cell_type": "code",
   "execution_count": 29,
   "id": "ea3e4a8a",
   "metadata": {},
   "outputs": [
    {
     "data": {
      "text/plain": [
       "930.13"
      ]
     },
     "execution_count": 29,
     "metadata": {},
     "output_type": "execute_result"
    }
   ],
   "source": [
    "round(56738/61,2)"
   ]
  },
  {
   "cell_type": "markdown",
   "id": "bea7bfcd",
   "metadata": {},
   "source": [
    "# Variable Assignment"
   ]
  },
  {
   "cell_type": "code",
   "execution_count": 33,
   "id": "77e910a6",
   "metadata": {},
   "outputs": [
    {
     "data": {
      "text/plain": [
       "6000"
      ]
     },
     "execution_count": 33,
     "metadata": {},
     "output_type": "execute_result"
    }
   ],
   "source": [
    "income=6000\n",
    "income"
   ]
  },
  {
   "cell_type": "code",
   "execution_count": 32,
   "id": "09a35818",
   "metadata": {},
   "outputs": [
    {
     "data": {
      "text/plain": [
       "200.0"
      ]
     },
     "execution_count": 32,
     "metadata": {},
     "output_type": "execute_result"
    }
   ],
   "source": [
    "income/30"
   ]
  },
  {
   "cell_type": "code",
   "execution_count": 34,
   "id": "20952ef7",
   "metadata": {},
   "outputs": [
    {
     "data": {
      "text/plain": [
       "1995"
      ]
     },
     "execution_count": 34,
     "metadata": {},
     "output_type": "execute_result"
    }
   ],
   "source": [
    "yob=1995\n",
    "yob"
   ]
  },
  {
   "cell_type": "code",
   "execution_count": 35,
   "id": "c6dfaaa3",
   "metadata": {},
   "outputs": [
    {
     "data": {
      "text/plain": [
       "27"
      ]
     },
     "execution_count": 35,
     "metadata": {},
     "output_type": "execute_result"
    }
   ],
   "source": [
    "age=2022-yob\n",
    "age"
   ]
  },
  {
   "cell_type": "code",
   "execution_count": null,
   "id": "3e958615",
   "metadata": {},
   "outputs": [],
   "source": [
    "yob=int(input(\"When is your year of birth\"))\n",
    "age=2022-yob\n",
    "age"
   ]
  },
  {
   "cell_type": "markdown",
   "id": "c923f714",
   "metadata": {},
   "source": [
    "# Strings\n"
   ]
  },
  {
   "cell_type": "code",
   "execution_count": 1,
   "id": "5d719075",
   "metadata": {},
   "outputs": [
    {
     "data": {
      "text/plain": [
       "'Hello Africa'"
      ]
     },
     "execution_count": 1,
     "metadata": {},
     "output_type": "execute_result"
    }
   ],
   "source": [
    "'Hello Africa'"
   ]
  },
  {
   "cell_type": "code",
   "execution_count": 2,
   "id": "e9f24bfc",
   "metadata": {},
   "outputs": [
    {
     "data": {
      "text/plain": [
       "str"
      ]
     },
     "execution_count": 2,
     "metadata": {},
     "output_type": "execute_result"
    }
   ],
   "source": [
    "type(\"Hello Africa\")"
   ]
  },
  {
   "cell_type": "code",
   "execution_count": 3,
   "id": "6efd0753",
   "metadata": {},
   "outputs": [
    {
     "data": {
      "text/plain": [
       "\"Shantel's car was parked in the garage.\""
      ]
     },
     "execution_count": 3,
     "metadata": {},
     "output_type": "execute_result"
    }
   ],
   "source": [
    "\"Shantel's car was parked in the garage.\""
   ]
  },
  {
   "cell_type": "code",
   "execution_count": 4,
   "id": "13964063",
   "metadata": {},
   "outputs": [
    {
     "name": "stdout",
     "output_type": "stream",
     "text": [
      "my name is Violet\n"
     ]
    }
   ],
   "source": [
    "# Tags- Tab and Next line\n",
    "print(\"my name is Violet\")"
   ]
  },
  {
   "cell_type": "code",
   "execution_count": 6,
   "id": "d2396607",
   "metadata": {},
   "outputs": [
    {
     "name": "stdout",
     "output_type": "stream",
     "text": [
      "my name is \tViolet\n"
     ]
    }
   ],
   "source": [
    "# Tab (\\t)\n",
    "print(\"my name is \\tViolet\")"
   ]
  },
  {
   "cell_type": "code",
   "execution_count": 7,
   "id": "a291797b",
   "metadata": {},
   "outputs": [
    {
     "name": "stdout",
     "output_type": "stream",
     "text": [
      "my name is \n",
      "Violet\n"
     ]
    }
   ],
   "source": [
    "# Next Line (\\n)\n",
    "print(\"my name is \\nViolet\")"
   ]
  },
  {
   "cell_type": "code",
   "execution_count": 1,
   "id": "315528d2",
   "metadata": {},
   "outputs": [
    {
     "name": "stdout",
     "output_type": "stream",
     "text": [
      "What is your first name?: Chioma\n",
      "what is your last name?: Dikenna\n",
      "Chioma Dikenna\n"
     ]
    }
   ],
   "source": [
    "# Concatenate\n",
    "first_name = input(\"What is your first name?: \")\n",
    "last_name = input(\"what is your last name?: \")\n",
    "full_name = first_name + \" \" + last_name\n",
    "print(full_name)"
   ]
  },
  {
   "cell_type": "code",
   "execution_count": 2,
   "id": "15c04c10",
   "metadata": {},
   "outputs": [
    {
     "data": {
      "text/plain": [
       "14"
      ]
     },
     "execution_count": 2,
     "metadata": {},
     "output_type": "execute_result"
    }
   ],
   "source": [
    "len(full_name)"
   ]
  },
  {
   "cell_type": "code",
   "execution_count": 3,
   "id": "cc980f8b",
   "metadata": {},
   "outputs": [
    {
     "name": "stdout",
     "output_type": "stream",
     "text": [
      "What did you score in your first test: 59\n",
      "What did you score in your second test: 42\n",
      "What did you score in your attendance: 11\n",
      "What did you score in your exam: 65\n",
      "Your total score is: 177.0\n"
     ]
    }
   ],
   "source": [
    "first_test = float(input(\"What did you score in your first test: \"))\n",
    "second_test = float(input(\"What did you score in your second test: \"))\n",
    "attendance = float(input(\"What did you score in your attendance: \"))\n",
    "exam = float(input(\"What did you score in your exam: \"))\n",
    "total_score = first_test + second_test + attendance + exam\n",
    "print(\"Your total score is: \" + str(total_score))"
   ]
  },
  {
   "cell_type": "code",
   "execution_count": 5,
   "id": "9380fd52",
   "metadata": {},
   "outputs": [
    {
     "data": {
      "text/plain": [
       "'Violet20'"
      ]
     },
     "execution_count": 5,
     "metadata": {},
     "output_type": "execute_result"
    }
   ],
   "source": [
    "\"Violet\"+str(20)"
   ]
  },
  {
   "cell_type": "code",
   "execution_count": null,
   "id": "7de97160",
   "metadata": {},
   "outputs": [],
   "source": []
  },
  {
   "cell_type": "code",
   "execution_count": null,
   "id": "1b13b446",
   "metadata": {},
   "outputs": [],
   "source": []
  },
  {
   "cell_type": "code",
   "execution_count": null,
   "id": "9787c0f2",
   "metadata": {},
   "outputs": [],
   "source": []
  },
  {
   "cell_type": "code",
   "execution_count": null,
   "id": "b1c70efc",
   "metadata": {},
   "outputs": [],
   "source": []
  },
  {
   "cell_type": "code",
   "execution_count": null,
   "id": "c1958854",
   "metadata": {},
   "outputs": [],
   "source": []
  },
  {
   "cell_type": "code",
   "execution_count": null,
   "id": "2221aa70",
   "metadata": {},
   "outputs": [],
   "source": []
  },
  {
   "cell_type": "code",
   "execution_count": null,
   "id": "e8976020",
   "metadata": {},
   "outputs": [],
   "source": []
  },
  {
   "cell_type": "code",
   "execution_count": null,
   "id": "718cfc55",
   "metadata": {},
   "outputs": [],
   "source": []
  },
  {
   "cell_type": "code",
   "execution_count": null,
   "id": "2082201c",
   "metadata": {},
   "outputs": [],
   "source": []
  },
  {
   "cell_type": "code",
   "execution_count": null,
   "id": "925f2fb4",
   "metadata": {},
   "outputs": [],
   "source": []
  },
  {
   "cell_type": "code",
   "execution_count": null,
   "id": "f51aaae3",
   "metadata": {},
   "outputs": [],
   "source": []
  },
  {
   "cell_type": "code",
   "execution_count": null,
   "id": "88652c52",
   "metadata": {},
   "outputs": [],
   "source": []
  },
  {
   "cell_type": "code",
   "execution_count": null,
   "id": "0b452989",
   "metadata": {},
   "outputs": [],
   "source": []
  },
  {
   "cell_type": "code",
   "execution_count": null,
   "id": "69db4b5e",
   "metadata": {},
   "outputs": [],
   "source": []
  }
 ],
 "metadata": {
  "kernelspec": {
   "display_name": "Python 3 (ipykernel)",
   "language": "python",
   "name": "python3"
  },
  "language_info": {
   "codemirror_mode": {
    "name": "ipython",
    "version": 3
   },
   "file_extension": ".py",
   "mimetype": "text/x-python",
   "name": "python",
   "nbconvert_exporter": "python",
   "pygments_lexer": "ipython3",
   "version": "3.9.13"
  }
 },
 "nbformat": 4,
 "nbformat_minor": 5
}
