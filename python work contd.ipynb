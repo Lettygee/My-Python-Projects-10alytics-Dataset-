{
 "cells": [
  {
   "cell_type": "code",
   "execution_count": 4,
   "id": "92d15c27",
   "metadata": {},
   "outputs": [
    {
     "name": "stdout",
     "output_type": "stream",
     "text": [
      "efemena stunna boy\n"
     ]
    }
   ],
   "source": [
    "name=\"efemena stunna boy\"\n",
    "print(name)"
   ]
  },
  {
   "cell_type": "code",
   "execution_count": 5,
   "id": "147cdf9d",
   "metadata": {},
   "outputs": [
    {
     "data": {
      "text/plain": [
       "'Efemena stunna boy'"
      ]
     },
     "execution_count": 5,
     "metadata": {},
     "output_type": "execute_result"
    }
   ],
   "source": [
    "name.capitalize()"
   ]
  },
  {
   "cell_type": "code",
   "execution_count": 6,
   "id": "f41b3d89",
   "metadata": {},
   "outputs": [
    {
     "data": {
      "text/plain": [
       "'EFEMENA STUNNA BOY'"
      ]
     },
     "execution_count": 6,
     "metadata": {},
     "output_type": "execute_result"
    }
   ],
   "source": [
    "name.upper()"
   ]
  },
  {
   "cell_type": "code",
   "execution_count": 7,
   "id": "1b5f3357",
   "metadata": {},
   "outputs": [
    {
     "data": {
      "text/plain": [
       "['efemena', 'stunna', 'boy']"
      ]
     },
     "execution_count": 7,
     "metadata": {},
     "output_type": "execute_result"
    }
   ],
   "source": [
    "name.split()"
   ]
  },
  {
   "cell_type": "code",
   "execution_count": 12,
   "id": "d7abef58",
   "metadata": {},
   "outputs": [
    {
     "name": "stdout",
     "output_type": "stream",
     "text": [
      "violet 27 banker\n"
     ]
    }
   ],
   "source": [
    "name=\"violet\"\n",
    "age=27\n",
    "occupation=\"banker\"\n",
    "\n",
    "print(name,age,occupation)\n"
   ]
  },
  {
   "cell_type": "markdown",
   "id": "a7cdf93c",
   "metadata": {},
   "source": [
    "### print formatting"
   ]
  },
  {
   "cell_type": "code",
   "execution_count": 13,
   "id": "342a6f83",
   "metadata": {},
   "outputs": [
    {
     "name": "stdout",
     "output_type": "stream",
     "text": [
      "violet 27 banker\n"
     ]
    }
   ],
   "source": [
    "name=\"violet\"\n",
    "age=27\n",
    "occupation=\"banker\"\n",
    "print(name,age,occupation)"
   ]
  },
  {
   "cell_type": "code",
   "execution_count": null,
   "id": "4c57eb6b",
   "metadata": {},
   "outputs": [],
   "source": [
    ".format method {} .format{name, age, occcupation}"
   ]
  },
  {
   "cell_type": "code",
   "execution_count": null,
   "id": "fc12af34",
   "metadata": {},
   "outputs": [],
   "source": [
    "placeholder method %s"
   ]
  },
  {
   "cell_type": "code",
   "execution_count": null,
   "id": "07e98811",
   "metadata": {},
   "outputs": [],
   "source": [
    "F strings {name} {age}"
   ]
  },
  {
   "cell_type": "code",
   "execution_count": null,
   "id": "f7b01022",
   "metadata": {},
   "outputs": [],
   "source": []
  },
  {
   "cell_type": "code",
   "execution_count": null,
   "id": "c8b502b9",
   "metadata": {},
   "outputs": [],
   "source": []
  },
  {
   "cell_type": "code",
   "execution_count": null,
   "id": "3a90fdef",
   "metadata": {},
   "outputs": [],
   "source": []
  },
  {
   "cell_type": "code",
   "execution_count": null,
   "id": "d7dd58f2",
   "metadata": {},
   "outputs": [],
   "source": []
  },
  {
   "cell_type": "code",
   "execution_count": 15,
   "id": "9ce9160e",
   "metadata": {},
   "outputs": [
    {
     "ename": "NameError",
     "evalue": "name 'Print' is not defined",
     "output_type": "error",
     "traceback": [
      "\u001b[1;31m---------------------------------------------------------------------------\u001b[0m",
      "\u001b[1;31mNameError\u001b[0m                                 Traceback (most recent call last)",
      "\u001b[1;32m~\\AppData\\Local\\Temp\\ipykernel_9516\\525899317.py\u001b[0m in \u001b[0;36m<module>\u001b[1;34m\u001b[0m\n\u001b[1;32m----> 1\u001b[1;33m \u001b[0mPrint\u001b[0m\u001b[1;33m(\u001b[0m\u001b[1;34mf\"Hello my name is {name}, i am {age} years i am a {occupation}\"\u001b[0m\u001b[1;33m)\u001b[0m\u001b[1;33m\u001b[0m\u001b[1;33m\u001b[0m\u001b[0m\n\u001b[0m",
      "\u001b[1;31mNameError\u001b[0m: name 'Print' is not defined"
     ]
    }
   ],
   "source": [
    "Print(f\"Hello my name is {name}, i am {age} years i am a {occupation}\")"
   ]
  },
  {
   "cell_type": "code",
   "execution_count": null,
   "id": "1ac88158",
   "metadata": {},
   "outputs": [],
   "source": []
  }
 ],
 "metadata": {
  "kernelspec": {
   "display_name": "Python 3 (ipykernel)",
   "language": "python",
   "name": "python3"
  },
  "language_info": {
   "codemirror_mode": {
    "name": "ipython",
    "version": 3
   },
   "file_extension": ".py",
   "mimetype": "text/x-python",
   "name": "python",
   "nbconvert_exporter": "python",
   "pygments_lexer": "ipython3",
   "version": "3.9.13"
  }
 },
 "nbformat": 4,
 "nbformat_minor": 5
}
